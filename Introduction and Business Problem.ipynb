{
 "cells": [
  {
   "cell_type": "markdown",
   "metadata": {},
   "source": [
    "# Analysing Business Opportunities in Lima districts\n"
   ]
  },
  {
   "cell_type": "markdown",
   "metadata": {},
   "source": [
    "<a href=\"https://royalparkhotel.com.pe/blog/lima-nuevo-destino-negocios-latinoamerica/\"><img src = \"https://royalparkhotel.com.pe/wp-content/uploads/2017/03/lima-el-nuevo-destino-de-negocios-de-Latinoamerica.jpg\" width = 400> </a>"
   ]
  },
  {
   "cell_type": "markdown",
   "metadata": {},
   "source": [
    "## 1.\tIntroduction"
   ]
  },
  {
   "cell_type": "markdown",
   "metadata": {
    "collapsed": true
   },
   "source": [
    "### 1.1.\tBackground"
   ]
  },
  {
   "cell_type": "markdown",
   "metadata": {},
   "source": [
    "Lima, capital city of Peru, is one of the largest cities in Latam with outstanding growing in the recent years. Peru has constantly maintained its macroeconomics indicators healthy. Its major indicators such as GDP, employment and inflation have shown good performance and have been stable. Due to that stability, there is an expecting increase of entrepreneurs who are looking for business opportunities. The whole market, mainly in Lima, is providing hopeful signs (growing demand for goods and services, exchange trade controlled, and lower barriers for entrance) which should be consider to invest in a new entrepreneurship.     "
   ]
  },
  {
   "cell_type": "markdown",
   "metadata": {},
   "source": [
    "### 1.2.\tProblem"
   ]
  },
  {
   "cell_type": "markdown",
   "metadata": {},
   "source": [
    "Considering that Peru is a developing country in which source of information in good quality is not developed and is not available for everyone, we have considered to work with the scarce data presented on websites. The following report not only would provide input information about what are businesses’ clustering segmentation in Lima but also would provide an important tool to identify if it is appropriate to start a new business in a determined geographical area based on competitor’s composition.  Finally, as an output of our analysis we can suggest a location to a new start-up company mainly related to its sector competitors.   "
   ]
  },
  {
   "cell_type": "markdown",
   "metadata": {},
   "source": [
    "### 1.3.\tInterest"
   ]
  },
  {
   "cell_type": "markdown",
   "metadata": {},
   "source": [
    "Small entrepreneurs would be very interested in accurate prediction of the best location to start a new business, because with that information they will make more thoughtful decisions. Other stakeholders, such as retailers, banks and real estate companies will find this information useful. They can fit their market forecast to the cluster segmentation analysis provided in this report. "
   ]
  }
 ],
 "metadata": {
  "kernelspec": {
   "display_name": "Python 3.6",
   "language": "python",
   "name": "python3"
  },
  "language_info": {
   "codemirror_mode": {
    "name": "ipython",
    "version": 3
   },
   "file_extension": ".py",
   "mimetype": "text/x-python",
   "name": "python",
   "nbconvert_exporter": "python",
   "pygments_lexer": "ipython3",
   "version": "3.6.9"
  }
 },
 "nbformat": 4,
 "nbformat_minor": 1
}
