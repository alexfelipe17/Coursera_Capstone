{
 "cells": [
  {
   "cell_type": "markdown",
   "metadata": {
    "collapsed": true
   },
   "source": [
    "# Data Preparation "
   ]
  },
  {
   "cell_type": "markdown",
   "metadata": {},
   "source": [
    "<a href=\"https://www.cairn-int.info/article-E_EG_443_0273--territories-and-inclusion-in-the.htm\"><img src = \"https://www.cairn-int.info/loadimg.php?FILE=E_EG/E_EG_443/E_EG_443_0273/E_EG_443_0273_img008.jpg\" width = 400> </a>"
   ]
  },
  {
   "cell_type": "markdown",
   "metadata": {},
   "source": [
    "### 1.- Data source N°1:"
   ]
  },
  {
   "cell_type": "markdown",
   "metadata": {},
   "source": [
    "The following report will consider two sources of information. The first one is related to a website in which we can find demographic composition of the whole of Lima districts. To get the main input information required for the analysis, we just have dropped some data in order to have cleaned our new dataframe. Then we have to convert some data sources into the proper data type to start our analysis. Then we just going to plot some bar charts identifying demographic composition of each district in order to identify the spot that might best fit to our desired demand.  \n",
    "This dataset exists for free on the web. Link to the dataset is: \n",
    "https://es.wikipedia.org/wiki/Anexo:Distritos_de_Lima#Distritos_de_Lima\n"
   ]
  },
  {
   "cell_type": "markdown",
   "metadata": {},
   "source": [
    "### 2.- Data source N°2:"
   ]
  },
  {
   "cell_type": "markdown",
   "metadata": {},
   "source": [
    "The second data source was elaborate by us because of the scarcity of resources on public websites and official sites. We have developed manually all the Lima districts´ coordinates and have made a dataframe.  We have converted the coordinates from DMS (degrees, minutes and seconds) to decimal degrees. Then we are going to plot each district in Lima map to show the composition of each cluster. \n",
    "This dataset exists for free on the web. Link to the dataset is: \n",
    "https://www.antipodas.net/coordenadaspais/peru/lima.php\n"
   ]
  }
 ],
 "metadata": {
  "kernelspec": {
   "display_name": "Python 3.6",
   "language": "python",
   "name": "python3"
  },
  "language_info": {
   "codemirror_mode": {
    "name": "ipython",
    "version": 3
   },
   "file_extension": ".py",
   "mimetype": "text/x-python",
   "name": "python",
   "nbconvert_exporter": "python",
   "pygments_lexer": "ipython3",
   "version": "3.6.9"
  }
 },
 "nbformat": 4,
 "nbformat_minor": 1
}
